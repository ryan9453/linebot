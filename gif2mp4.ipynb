{
  "nbformat": 4,
  "nbformat_minor": 0,
  "metadata": {
    "colab": {
      "name": "gif2mp4.ipynb",
      "provenance": [],
      "authorship_tag": "ABX9TyPEFrNyvghLcXCMis1LDVEc",
      "include_colab_link": true
    },
    "kernelspec": {
      "name": "python3",
      "display_name": "Python 3"
    },
    "language_info": {
      "name": "python"
    }
  },
  "cells": [
    {
      "cell_type": "markdown",
      "metadata": {
        "id": "view-in-github",
        "colab_type": "text"
      },
      "source": [
        "<a href=\"https://colab.research.google.com/github/ryan9453/linebot/blob/main/gif2mp4.ipynb\" target=\"_parent\"><img src=\"https://colab.research.google.com/assets/colab-badge.svg\" alt=\"Open In Colab\"/></a>"
      ]
    },
    {
      "cell_type": "code",
      "metadata": {
        "id": "6dGXnJSGhrK-"
      },
      "source": [
        "!pip install MoviePy"
      ],
      "execution_count": null,
      "outputs": []
    },
    {
      "cell_type": "code",
      "metadata": {
        "id": "Acztt97bhtqB"
      },
      "source": [
        "import moviepy.editor as mp\n",
        "\n",
        "clip = mp.VideoFileClip(\"coffee.gif\")\n",
        "clip.write_videofile(\"coffee.mp4\")"
      ],
      "execution_count": null,
      "outputs": []
    }
  ]
}