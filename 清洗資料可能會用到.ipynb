{
  "nbformat": 4,
  "nbformat_minor": 0,
  "metadata": {
    "colab": {
      "name": "清洗資料可能會用到.ipynb",
      "provenance": [],
      "authorship_tag": "ABX9TyOQzGvSp3Cnn6cuZFnsy+Go",
      "include_colab_link": true
    },
    "kernelspec": {
      "name": "python3",
      "display_name": "Python 3"
    },
    "language_info": {
      "name": "python"
    }
  },
  "cells": [
    {
      "cell_type": "markdown",
      "metadata": {
        "id": "view-in-github",
        "colab_type": "text"
      },
      "source": [
        "<a href=\"https://colab.research.google.com/github/ryan9453/linebot/blob/main/%E6%B8%85%E6%B4%97%E8%B3%87%E6%96%99%E5%8F%AF%E8%83%BD%E6%9C%83%E7%94%A8%E5%88%B0.ipynb\" target=\"_parent\"><img src=\"https://colab.research.google.com/assets/colab-badge.svg\" alt=\"Open In Colab\"/></a>"
      ]
    },
    {
      "cell_type": "code",
      "metadata": {
        "colab": {
          "base_uri": "https://localhost:8080/"
        },
        "id": "WNFRhCp5CEOR",
        "outputId": "7e9eb94e-bb86-419a-c7b4-3d4ed72095b6"
      },
      "source": [
        "a =['1','1','1','2','2','2','2','2','3','3','3']\n",
        "b = {}\n",
        "for i in range(1,4):\n",
        "    # name = f'L{str(i)}'\n",
        "    # locals()[name] = [] \n",
        "    # print(f'{name}={locals()[name]}')\n",
        "    # name = f'L{str(i)}'\n",
        "    locals()[f'L{str(i)}'] = [j for j in a if str(i) == j]\n",
        "    \n",
        "print(f'L1={L1}')\n",
        "print(f'L2={L2}')\n",
        "print(f'L3={L3}')"
      ],
      "execution_count": 19,
      "outputs": [
        {
          "output_type": "stream",
          "text": [
            "L1=['1', '1', '1']\n",
            "L2=['2', '2', '2', '2', '2']\n",
            "L3=['3', '3', '3']\n"
          ],
          "name": "stdout"
        }
      ]
    }
  ]
}